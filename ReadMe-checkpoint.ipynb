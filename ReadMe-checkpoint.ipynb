{
 "cells": [
  {
   "cell_type": "markdown",
   "id": "d0ef61c3",
   "metadata": {},
   "source": [
    "# Intro To Migrate3D"
   ]
  },
  {
   "cell_type": "markdown",
   "id": "47b8d777",
   "metadata": {},
   "source": [
    "<p> Migrate3D is a program that is able to take in 3-dimensional or 2-dimensional cell data and provides a variety of valuable metrics to determine the cell's path during tracking periods. This program also provides summary statistics on the data generated. </p>\n",
    "\n",
    "<p>The program takes in data in .xlsx format and produces a .xlsx file that is user specified. </p>"
   ]
  },
  {
   "cell_type": "markdown",
   "id": "24137dca",
   "metadata": {},
   "source": [
    "## Packages Required:\n",
    "<p> numpy, openpyxl, pandas </p>"
   ]
  },
  {
   "cell_type": "markdown",
   "id": "e2c057ab",
   "metadata": {},
   "source": [
    "## General Inputs:"
   ]
  },
  {
   "cell_type": "code",
   "execution_count": null,
   "id": "8963f055",
   "metadata": {
    "scrolled": true
   },
   "outputs": [],
   "source": [
    "importfile = input(\"Name of the .XLSX file to import: \")\n",
    "savefile = input(\"What to save as: \")\n",
    "add_im = importfile.find('.xlsx')\n",
    "add_save = savefile.find('.xlsx')\n",
    "if add_im == -1:\n",
    "    importfile = importfile + '.xlsx'\n",
    "if add_save == -1:\n",
    "    savefile = savefile + '.xlsx'\n",
    "           \n",
    "format_check = input(\"Do you wish to format the file? (y/n). \")\n",
    "intervals = int(input(\"Time intervals to calculate: \")) \n",
    "arrest = float(input(\"Set arrest limit (assumes same units as XYZ coordinates): \"))"
   ]
  },
  {
   "cell_type": "markdown",
   "id": "5f347e20",
   "metadata": {},
   "source": [
    "<p>Variable importfile above takes the .xlsx file with cell tracking data </p>\n",
    "<p>Variable savefile stores the name of the .xlsx file that you want to save generated data into </p>\n",
    "<p>If fomat_check == 'y' the program will re-format the importfile so the program can read it, will create new .xlsx workbook as formatted_'name of your import file' </p>\n",
    "<p>intervals corresponds to the number of time intervals you want to calculate over </p>\n",
    "<p>arrest is the lower limit of instantaneous displacement over one timepoint for what will be considered \"true\" motion</p>"
   ]
  },
  {
   "cell_type": "markdown",
   "id": "6818bdeb",
   "metadata": {},
   "source": [
    "## if format_check == 'y':"
   ]
  },
  {
   "cell_type": "code",
   "execution_count": null,
   "id": "75cb3a27",
   "metadata": {
    "scrolled": true
   },
   "outputs": [],
   "source": [
    "sort_1 = int(input(\"What column number would you like to sort by first? \"))\n",
    "sort_2 = int(input(\"What column number would you like to sort by second? \"))\n",
    "dem_2_chck = input(\"Replace Z dimension data with zeroes? (y/n) \")\n",
    "parent_id = int(input(\"What column number is your cell ID data in? \"))\n",
    "time_col = int(input(\"What column number is your Time in? \"))\n",
    "x_for = int(input(\"What column number is your X data in? \"))\n",
    "y_for = int(input(\"What column number is your Y data in? \"))\n",
    "if dem_2_chck == 'n':\n",
    "    z_for = int(input(\"What column number is your Z data in? \"))\n",
    "infile = pd.read_excel(importfile)\n",
    "df_syn_raw = pd.DataFrame(infile)\n",
    "df_syn_raw = df_syn_raw.sort_values(by=[df_syn_raw.columns[sort_1-1], df_syn_raw.columns[sort_2-1]],\n",
    "                                    ascending=True)\n",
    "df_syn_raw.to_excel(\"formatted_\" + importfile, index=False)\n",
    "\n",
    "importfile = \"formatted_\" + importfile\n",
    "wb = openpyxl.load_workbook(importfile)\n",
    "sheet = wb.active\n",
    "max_row = sheet.max_row\n",
    "syn_spot = False\n",
    "num_syn = 1\n",
    "for rows in range(2, max_row + 1):\n",
    "    cells_id = sheet.cell(rows, 1).value\n",
    "    cells_chck = sheet.cell(rows + 1, 1).value\n",
    "    times = sheet.cell(rows, 2).value\n",
    "    times_chk = sheet.cell(rows + 1, 2).value\n",
    "    if cells_id == cells_chck:\n",
    "        if times == times_chk:\n",
    "            syn_spot = True\n",
    "            num_syn += 1\n",
    "\n",
    "        elif times != times_chk and syn_spot:\n",
    "            syn_spot = False\n",
    "            x = []\n",
    "            y = []\n",
    "            z = []\n",
    "            for i_s in range(num_syn):  # get all the values of a syn once spotted\n",
    "                x.append(sheet.cell(rows - i_s, 3).value)\n",
    "                y.append(sheet.cell(rows - i_s, 4).value)\n",
    "                z.append(sheet.cell(rows - i_s, 5).value)\n",
    "                sheet.cell(rows - i_s, 3).value = None\n",
    "                sheet.cell(rows - i_s, 4).value = None\n",
    "                sheet.cell(rows - i_s, 5).value = None\n",
    "\n",
    "            sheet.cell(rows, 3).value = statistics.mean(x)\n",
    "            sheet.cell(rows, 4).value = statistics.mean(y)\n",
    "            sheet.cell(rows, 5).value = statistics.mean(z)\n",
    "            num_syn = 1\n",
    "            \n",
    "    else:\n",
    "        pass\n",
    "    \n",
    "wb.save(importfile)\n",
    "wb.close()\n",
    "infile = pd.read_excel(importfile)\n",
    "with pd.ExcelWriter(importfile, mode='a') as work_book:\n",
    "    df = pd.DataFrame(infile)\n",
    "    df = df.dropna()\n",
    "    df.to_excel(work_book, sheet_name='Corrected', index=False)\n",
    "\n",
    "new_wrkbook = openpyxl.load_workbook(importfile)\n",
    "new_wrkbook.remove(new_wrkbook['Sheet1'])\n",
    "new_wrkbook.save(importfile)\n",
    "new_wrkbook.close()\n",
    "importex = pd.read_excel(importfile)\n",
    "df = pd.DataFrame(importex)\n",
    "df2 = pd.DataFrame()\n",
    "if dem_2_chck == 'n':\n",
    "    df2['Parent ID'] = df[df.columns[parent_id-1]]\n",
    "    pd.to_numeric(df2['Parent ID'])\n",
    "    df2[\"Time\"] = df[df.columns[time_col-1]]\n",
    "    df2[\"X Coordinate\"] = df[df.columns[x_for-1]]\n",
    "    df2[\"Y Coordinate\"] = df[df.columns[y_for-1]]\n",
    "    df2[\"Z Coordinate\"] = df[df.columns[z_for-1]]\n",
    "    df2.to_excel(importfile)\n",
    "    print('Formatted file saved as: ', importfile)\n",
    "elif dem_2_chck == 'y':\n",
    "    df2['Parent ID'] = df[df.columns[parent_id - 1]]\n",
    "    df2[\"Time\"] = df[df.columns[time_col - 1]]\n",
    "    df2[\"X Coordinate\"] = df[df.columns[x_for - 1]]\n",
    "    df2[\"Y Coordinate\"] = df[df.columns[y_for - 1]]\n",
    "    df2[\"Z Coordinate\"] = 0\n",
    "    df2.to_excel(importfile)\n",
    "    print('Formatted file saved as: ', importfile)"
   ]
  },
  {
   "cell_type": "markdown",
   "id": "2396523a",
   "metadata": {},
   "source": [
    "<p> this bit of code here is responsible for formatting your raw data files and also correcting cell data if you are working with syncytia. If you have syncytia data in your cell, the script will take the mean x,y,z position for the duration of time the syncytia was tracked for and compile it into one time point measurement </p>"
   ]
  },
  {
   "cell_type": "markdown",
   "id": "b184d0f6",
   "metadata": {},
   "source": [
    "## Calculating Euclidean Distance"
   ]
  },
  {
   "cell_type": "code",
   "execution_count": null,
   "id": "c918eeca",
   "metadata": {},
   "outputs": [],
   "source": [
    "def euclidiancalc(colout_val, col_mod, row):\n",
    "    try:\n",
    "        x_0 = sheet_in.cell(row - col_mod, 4).value\n",
    "        y_0 = sheet_in.cell(row - col_mod, 5).value\n",
    "        z_0 = sheet_in.cell(row - col_mod, 6).value\n",
    "\n",
    "        if type(x_0) is None or type(x_0) == str or z_0 is None:\n",
    "            pass\n",
    "\n",
    "        else:\n",
    "            x_1 = sheet_in.cell(row, 4).value\n",
    "            y_1 = sheet_in.cell(row, 5).value\n",
    "            z_1 = sheet_in.cell(row, 6).value\n",
    "\n",
    "            x_val = x_1 - x_0\n",
    "            y_val = y_1 - y_0\n",
    "            z_val = z_1 - z_0\n",
    "\n",
    "            # calculate sqrd values\n",
    "            x_sqrd = x_val ** 2\n",
    "            y_sqrd = y_val ** 2\n",
    "            z_sqrd = z_val ** 2\n",
    "\n",
    "            euclidian_dist = np.sqrt(x_sqrd + y_sqrd + z_sqrd)\n",
    "\n",
    "            sheet.cell(row, colout_val).value = euclidian_dist\n",
    "    except ValueError:\n",
    "        pass\n"
   ]
  },
  {
   "cell_type": "markdown",
   "id": "e0763313",
   "metadata": {},
   "source": [
    "<p> This function calculates euclidean distance, a metric that calculates the straightest path that can be taken between two time intervals. The unique aspect of this function is it will calculate euclidean distance over user specified time intervals and is done all in one function. Data is output to excel workbook. "
   ]
  },
  {
   "cell_type": "markdown",
   "id": "2fa3827f",
   "metadata": {},
   "source": [
    "## Calculating the Angle Between two Vectors "
   ]
  },
  {
   "cell_type": "code",
   "execution_count": null,
   "id": "4a91c45b",
   "metadata": {},
   "outputs": [],
   "source": [
    "def anglecalc(row, sub, col_ang, col_calc, euclid_col, arrst_passed, total, i):\n",
    "    try:\n",
    "        sub2 = sub * 2\n",
    "        if i + 3 > total:\n",
    "            pass\n",
    "\n",
    "        else:\n",
    "            xt0 = sheet_in.cell(row, 4).value\n",
    "            yt0 = sheet_in.cell(row, 5).value\n",
    "            zt0 = sheet_in.cell(row, 6).value\n",
    "            xt_1 = sheet_in.cell(row - sub, 4).value\n",
    "            yt_1 = sheet_in.cell(row - sub, 5).value\n",
    "            zt_1 = sheet_in.cell(row - sub, 6).value\n",
    "            xt_2 = sheet_in.cell(row - sub2, 4).value\n",
    "            yt_2 = sheet_in.cell(row - sub2, 5).value\n",
    "            zt_2 = sheet_in.cell(row - sub2, 6).value\n",
    "            # get the magnitude of each vector\n",
    "            if xt_2 is None or type(xt_2) == str or zt0 is None:\n",
    "                pass\n",
    "\n",
    "            else:\n",
    "                xmc = xt0 - xt_1\n",
    "                ymc = yt0 - yt_1\n",
    "                zmc = zt0 - zt_1\n",
    "                xmp = xt_1 - xt_2\n",
    "                ymp = yt_1 - yt_2\n",
    "                zmp = zt_1 - zt_2\n",
    "                vec_c = [xmc, ymc, zmc]\n",
    "                vec_p = [xmp, ymp, zmp]\n",
    "                # get the angle of the vectors\n",
    "                vec_cnorm = vec_c / np.linalg.norm(vec_c)\n",
    "                vec_pnorm = vec_p / np.linalg.norm(vec_p)\n",
    "                angle_c = np.arccos(np.clip(np.dot(vec_cnorm, vec_pnorm), -1.0, 1.0))\n",
    "                angle_deg = angle_c * 180 / np.pi\n",
    "                sheet.cell(row, col_ang).value = angle_deg\n",
    "                # now calc difference between angles by euclid\n",
    "                euclid = sheet.cell(row, euclid_col).value\n",
    "                euclid_prev = sheet.cell(row - sub, euclid_col).value\n",
    "                if euclid is None or euclid_prev is None:\n",
    "                    pass\n",
    "                elif euclid > arrst_passed and euclid_prev > arrst_passed:\n",
    "                    calc = np.absolute(angle_deg)\n",
    "                    sheet.cell(row, col_calc).value = calc\n",
    "    except ValueError:\n",
    "        pass\n"
   ]
  },
  {
   "cell_type": "markdown",
   "id": "d4e21a04",
   "metadata": {},
   "source": [
    "<p> This function creates two vectors from x,y,z coordinates of a cell over user specified time and calculates the angle between the two vectors. All angles are reported but there is also filtering that occurs based on the euclidean distance of the current time and the euclidean distance of the prior time with respect to the time interval the angle is being calculated for. If both of those euclidean distance measurements are above a user specified threshold, the angle measurement will be reported in the angle filtered column of the excel workbook."
   ]
  },
  {
   "cell_type": "code",
   "execution_count": null,
   "id": "23c924b4",
   "metadata": {},
   "outputs": [],
   "source": []
  }
 ],
 "metadata": {
  "celltoolbar": "Raw Cell Format",
  "kernelspec": {
   "display_name": "Python 3",
   "language": "python",
   "name": "python3"
  },
  "language_info": {
   "codemirror_mode": {
    "name": "ipython",
    "version": 3
   },
   "file_extension": ".py",
   "mimetype": "text/x-python",
   "name": "python",
   "nbconvert_exporter": "python",
   "pygments_lexer": "ipython3",
   "version": "3.8.5"
  }
 },
 "nbformat": 4,
 "nbformat_minor": 5
}
