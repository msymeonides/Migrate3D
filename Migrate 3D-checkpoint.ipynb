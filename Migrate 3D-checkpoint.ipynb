{
 "cells": [
  {
   "cell_type": "markdown",
   "id": "d0ef61c3",
   "metadata": {},
   "source": [
    "# Intro To Migrate 3D"
   ]
  },
  {
   "cell_type": "markdown",
   "id": "47b8d777",
   "metadata": {},
   "source": [
    "<p> Migrate 3D is a program that is able to take in 3-demensional or 2-demensional cell data and provides a variety of valuable metrics to determine the cell's path during tracking periods. This program also provides summary statistics on the data generated </p>\n",
    "\n",
    "<p>The program takes in data in .xlsx format and produces a .xlsx file that is user specified </p>"
   ]
  },
  {
   "cell_type": "markdown",
   "id": "24137dca",
   "metadata": {},
   "source": [
    "## Packages Required:\n",
    "<p> numpy, openpyxl, pandas </p>"
   ]
  },
  {
   "cell_type": "markdown",
   "id": "e2c057ab",
   "metadata": {},
   "source": [
    "## General Inputs:"
   ]
  },
  {
   "cell_type": "code",
   "execution_count": null,
   "id": "8963f055",
   "metadata": {
    "scrolled": true
   },
   "outputs": [],
   "source": [
    "importfile = input(\"Name of the .XLSX file to import: \")\n",
    "savefile = input(\"What to save as: \")\n",
    "add_im = importfile.find('.xlsx')\n",
    "add_save = savefile.find('.xlsx')\n",
    "if add_im == -1:\n",
    "    importfile = importfile + '.xlsx'\n",
    "if add_save == -1:\n",
    "    savefile = savefile + '.xlsx'\n",
    "           \n",
    "format_check = input(\"Do you wish to format the file? (y/n). \")\n",
    "euclid_amt = int(input(\"Time intervals to calculate: \")) \n",
    "arrst = float(input(\"Set arrest limit (assumes same units as XYZ coordinates): \"))"
   ]
  },
  {
   "cell_type": "markdown",
   "id": "5f347e20",
   "metadata": {},
   "source": [
    "<p>Variable importfile above takes the .xlsx file with cell tracking data </p>\n",
    "<p>Variable savefile stores the name of the .xlsx file that you want to save generated data into </p>\n",
    "<p>If fomat_check == 'y' the program will re-formated the importfile so the program can read it, will create new .xlsx workbook as formatted_'name of your import file' </p>\n",
    "<p>euclid_amt corresponds to the number of time intervals you want to calculate over </p>\n",
    "<p>arrst takes what displacement value below which the program will consider dead </p>"
   ]
  },
  {
   "cell_type": "markdown",
   "id": "6818bdeb",
   "metadata": {},
   "source": [
    "## if format_check == 'y':"
   ]
  },
  {
   "cell_type": "code",
   "execution_count": null,
   "id": "75cb3a27",
   "metadata": {
    "scrolled": true
   },
   "outputs": [],
   "source": [
    "sort_1 = int(input(\"What column number would you like to sort by first? \"))\n",
    "sort_2 = int(input(\"What column number would you like to sort by second? \"))\n",
    "dem_2_chck = input(\"Replace Z dimension data with zeroes? (y/n) \")\n",
    "parent_id = int(input(\"What column number is your cell ID data in? \"))\n",
    "time_col = int(input(\"What column number is your Time in? \"))\n",
    "x_for = int(input(\"What column number is your X data in? \"))\n",
    "y_for = int(input(\"What column number is your Y data in? \"))\n",
    "if dem_2_chck == 'n':\n",
    "    z_for = int(input(\"What column number is your Z data in? \"))\n",
    "infile = pd.read_excel(importfile)\n",
    "df_syn_raw = pd.DataFrame(infile)\n",
    "df_syn_raw = df_syn_raw.sort_values(by=[df_syn_raw.columns[sort_1-1], df_syn_raw.columns[sort_2-1]],\n",
    "                                    ascending=True)\n",
    "df_syn_raw.to_excel(\"formatted_\" + importfile, index=False)\n",
    "\n",
    "importfile = \"formatted_\" + importfile\n",
    "wb = openpyxl.load_workbook(importfile)\n",
    "sheet = wb.active\n",
    "max_row = sheet.max_row\n",
    "syn_spot = False\n",
    "num_syn = 1\n",
    "for rows in range(2, max_row + 1):\n",
    "    cells_id = sheet.cell(rows, 1).value\n",
    "    cells_chck = sheet.cell(rows + 1, 1).value\n",
    "    times = sheet.cell(rows, 2).value\n",
    "    times_chk = sheet.cell(rows + 1, 2).value\n",
    "    if cells_id == cells_chck:\n",
    "        if times == times_chk:\n",
    "            syn_spot = True\n",
    "            num_syn += 1\n",
    "\n",
    "        elif times != times_chk and syn_spot:\n",
    "            syn_spot = False\n",
    "            x = []\n",
    "            y = []\n",
    "            z = []\n",
    "            for i_s in range(num_syn):  # get all the values of a syn once spotted\n",
    "                x.append(sheet.cell(rows - i_s, 3).value)\n",
    "                y.append(sheet.cell(rows - i_s, 4).value)\n",
    "                z.append(sheet.cell(rows - i_s, 5).value)\n",
    "                sheet.cell(rows - i_s, 3).value = None\n",
    "                sheet.cell(rows - i_s, 4).value = None\n",
    "                sheet.cell(rows - i_s, 5).value = None\n",
    "\n",
    "            sheet.cell(rows, 3).value = statistics.mean(x)\n",
    "            sheet.cell(rows, 4).value = statistics.mean(y)\n",
    "            sheet.cell(rows, 5).value = statistics.mean(z)\n",
    "            num_syn = 1\n",
    "            \n",
    "    else:\n",
    "        pass\n",
    "    \n",
    "wb.save(importfile)\n",
    "wb.close()\n",
    "infile = pd.read_excel(importfile)\n",
    "with pd.ExcelWriter(importfile, mode='a') as work_book:\n",
    "    df = pd.DataFrame(infile)\n",
    "    df = df.dropna()\n",
    "    df.to_excel(work_book, sheet_name='Corrected', index=False)\n",
    "\n",
    "new_wrkbook = openpyxl.load_workbook(importfile)\n",
    "new_wrkbook.remove(new_wrkbook['Sheet1'])\n",
    "new_wrkbook.save(importfile)\n",
    "new_wrkbook.close()\n",
    "importex = pd.read_excel(importfile)\n",
    "df = pd.DataFrame(importex)\n",
    "df2 = pd.DataFrame()\n",
    "if dem_2_chck == 'n':\n",
    "    df2['Parent ID'] = df[df.columns[parent_id-1]]\n",
    "    pd.to_numeric(df2['Parent ID'])\n",
    "    df2[\"Time\"] = df[df.columns[time_col-1]]\n",
    "    df2[\"X Coordinate\"] = df[df.columns[x_for-1]]\n",
    "    df2[\"Y Coordinate\"] = df[df.columns[y_for-1]]\n",
    "    df2[\"Z Coordinate\"] = df[df.columns[z_for-1]]\n",
    "    df2.to_excel(importfile)\n",
    "    print('Formatted file saved as: ', importfile)\n",
    "elif dem_2_chck == 'y':\n",
    "    df2['Parent ID'] = df[df.columns[parent_id - 1]]\n",
    "    df2[\"Time\"] = df[df.columns[time_col - 1]]\n",
    "    df2[\"X Coordinate\"] = df[df.columns[x_for - 1]]\n",
    "    df2[\"Y Coordinate\"] = df[df.columns[y_for - 1]]\n",
    "    df2[\"Z Coordinate\"] = 0\n",
    "    df2.to_excel(importfile)\n",
    "    print('Formatted file saved as: ', importfile)"
   ]
  },
  {
   "cell_type": "markdown",
   "id": "2396523a",
   "metadata": {},
   "source": [
    "<p> this bit of code here is responsible for formatting your raw data files and also correcting cell data if you are working with syncytia. If you have syncytia data in your cell, the script will take the mean x,y,z position for the duration of time the syncytia was tracked for and compile it into one time point measurement </p>"
   ]
  },
  {
   "cell_type": "code",
   "execution_count": null,
   "id": "43fd8803",
   "metadata": {},
   "outputs": [],
   "source": []
  }
 ],
 "metadata": {
  "celltoolbar": "Raw Cell Format",
  "kernelspec": {
   "display_name": "Python 3",
   "language": "python",
   "name": "python3"
  },
  "language_info": {
   "codemirror_mode": {
    "name": "ipython",
    "version": 3
   },
   "file_extension": ".py",
   "mimetype": "text/x-python",
   "name": "python",
   "nbconvert_exporter": "python",
   "pygments_lexer": "ipython3",
   "version": "3.8.5"
  }
 },
 "nbformat": 4,
 "nbformat_minor": 5
}
